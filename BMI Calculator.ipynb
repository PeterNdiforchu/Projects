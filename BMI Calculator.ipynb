{
 "cells": [
  {
   "cell_type": "markdown",
   "id": "2c4343fd-a0d3-4c15-b632-3205ba2246e5",
   "metadata": {},
   "source": [
    "## BMI Calculator"
   ]
  },
  {
   "cell_type": "code",
   "execution_count": null,
   "id": "289731fc-762d-4e1c-8b4d-ac8feb39edd6",
   "metadata": {},
   "outputs": [],
   "source": [
    "name = input (\"Enter your name\")\n",
    "              \n",
    "weight = int(input(\"Enter your weight in pounds: \"))\n",
    "\n",
    "height = int(input(\"Enter your height in inches: \"))\n",
    "\n",
    "BMI = (weight * 703)/ (height * height)\n",
    "\n",
    "print(BMI)\n",
    "\n",
    "if BMI>0:\n",
    "    if (BMI<18.5):\n",
    "        print(name +\", You are underweight.\")\n",
    "    elif (BMI<=24.9):\n",
    "        print(name +\", You are normal weight. Keep it up!\")\n",
    "    elif (BMI<29.9):\n",
    "        print(name +\", You are overweight. You need to be more active.\")\n",
    "    elif (BMI<34.9):\n",
    "        print(name +\", You are obese.You need to be more active.\")\n",
    "    elif (BMI<39.9):\n",
    "        print(name +\", You are severely obese. You need to be more active.\")\n",
    "    else:\n",
    "        print(\"You are morbidly obese. You need to be more active.\")\n",
    "else:\n",
    "    print(\"Enter valid input\")\n"
   ]
  },
  {
   "cell_type": "code",
   "execution_count": null,
   "id": "eef64e34-af8b-4e98-800e-32b14e6253f7",
   "metadata": {},
   "outputs": [],
   "source": []
  },
  {
   "cell_type": "code",
   "execution_count": null,
   "id": "f04e6a21-b795-4db1-b2a6-04fb668374ff",
   "metadata": {},
   "outputs": [],
   "source": []
  }
 ],
 "metadata": {
  "kernelspec": {
   "display_name": "Python 3 (ipykernel)",
   "language": "python",
   "name": "python3"
  },
  "language_info": {
   "codemirror_mode": {
    "name": "ipython",
    "version": 3
   },
   "file_extension": ".py",
   "mimetype": "text/x-python",
   "name": "python",
   "nbconvert_exporter": "python",
   "pygments_lexer": "ipython3",
   "version": "3.11.7"
  }
 },
 "nbformat": 4,
 "nbformat_minor": 5
}
